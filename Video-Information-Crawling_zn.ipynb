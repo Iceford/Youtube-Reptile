{
 "cells": [
  {
   "attachments": {},
   "cell_type": "markdown",
   "metadata": {},
   "source": [
    "### <center>Youtube频道视频信息爬虫</center>\n",
    "\n",
    "功能描述：爬取`YouTube`某个频道下的所有视频的信息，包括视频ID、标题、描述、发布时间，并将其保存为`csv`文件\n",
    "\n",
    "依赖包安装：请确保已安装了`google-api-python-client`库。如果没有，请使用以下命令安装:\n",
    "``` bash\n",
    "pip install google-api-python-client\n",
    "```\n",
    "运行`.ipynb`文件需要`ipykernel`包,运行以下命令将`ipykernel`安装到 `Python`环境中:\n",
    "``` bash \n",
    "conda install -n reptile ipykernel --update-deps --force-reinstall\n",
    "```"
   ]
  },
  {
   "cell_type": "code",
   "execution_count": 13,
   "metadata": {},
   "outputs": [],
   "source": [
    "import os # 导入Python内置的os模块\n",
    "import csv # 导入Python内置的csv模块\n",
    "from googleapiclient.discovery import build \n",
    "# 从googleapiclient包中的discovery模块导入build函数,用于访问Google API服务"
   ]
  },
  {
   "attachments": {},
   "cell_type": "markdown",
   "metadata": {},
   "source": [
    "#### 获取YouTube API密钥\n",
    "\n",
    "1. 访问[Google Cloud Platform控制台](https://console.cloud.google.com/)，然后登录到您的Google帐户。\n",
    "\n",
    "![](assets/屏幕截图-2023-05-05-144025.png)\n",
    "\n",
    "首次登录会要求选取一个位置集中创建和管理您的`Google Cloud`实例、磁盘、网络及其他资源。\n",
    "\n",
    "![](assets/屏幕截图-2023-05-05-144906.png)\n",
    "\n",
    "\n",
    "2. 如果您已有项目，可以从项目下拉列表中选择一个。\n",
    "\n",
    "![](assets/屏幕截图-2023-05-05-145149.png)\n",
    "\n",
    "如果您尚未创建项目，请点击“创建项目”按钮，然后输入项目名称和其他相关信息。\n",
    "\n",
    "![](assets/屏幕截图-2023-05-05-145338.png)\n",
    "\n",
    "\n",
    "3. 在左侧导航栏中，点击“导航菜单”图标，然后选择“API和服务”>“库”。\n",
    "\n",
    "![](assets/屏幕截图-2023-05-05-145820.png)\n",
    "\n",
    "在搜索框中输入`YouTube Data API v3`，然后点击搜索结果中的`YouTube Data API v3`。\n",
    "\n",
    "![](assets/屏幕截图-2023-05-05-145926.png)\n",
    "\n",
    "![](assets/屏幕截图-2023-05-05-150024.png)\n",
    "\n",
    "\n",
    "4. 点击“启用”按钮以启用`API`。\n",
    "\n",
    "![](assets/屏幕截图-2023-05-05-150051.png)\n",
    "\n",
    "5. `API`启用后，您将被重定向到`API`概览页面。在此页面上，点击“创建凭据”按钮。\n",
    "\n",
    "![](assets/屏幕截图-2023-05-05-150201.png)\n",
    "\n",
    "\n",
    "6. 在“创建凭据”页面上，选择“公开数据”作为凭据类型。系统将自动生成一个新的API密钥。\n",
    "\n",
    "![](assets\\屏幕截图-2023-05-05-150757.png)\n",
    "\n",
    "\n",
    "7. 复制新生成的`API`密钥，并将其粘贴到`Python`代码中，替换`api_key`。\n",
    "\n",
    "![](assets/屏幕截图-2023-05-05-150854.png)\n",
    "\n",
    "\n",
    "8. 现在，您已经成功获取了`YouTube API密钥`，可以在代码中使用它来访问`YouTube Data API`。请确保保管好您的API密钥，不要与他人共享。如果需要，您可以在`Google Cloud Platform`控制台中的“API和服务”>“凭据”页面上管理和删除您的`API密钥`。"
   ]
  },
  {
   "cell_type": "code",
   "execution_count": 14,
   "metadata": {},
   "outputs": [],
   "source": [
    "api_key = \"\"  # YouTube API密钥\n",
    "# 使用Google API构建一个访问YouTube视频服务的客户端对象\n",
    "youtube = build(\"youtube\", \"v3\", developerKey=api_key)"
   ]
  },
  {
   "cell_type": "code",
   "execution_count": 15,
   "metadata": {},
   "outputs": [],
   "source": [
    "\"\"\"\n",
    "函数功能:获取指定YouTube频道的所有视频信息\n",
    "传入参数:接受一个参数channel_id作为要获取视频的频道ID\n",
    "返回值:返回一个包含所有视频信息的列表videos\n",
    "\"\"\"\n",
    "def get_channel_videos(channel_id):\n",
    "    # 定义了空列表video_ids用于保存视频id和变量next_page_token用于存储下一页数据的令牌\n",
    "    video_ids = []\n",
    "    next_page_token = None\n",
    "    # 循环获取下一页视频信息\n",
    "    while True:\n",
    "        # 使用googleapiclient.discovery模块的search().list()方法来向YouTube API发送请求\n",
    "        request = youtube.search().list(\n",
    "            part=\"id\",  # 要获取的视频的基本信息(如标题、描述和发布时间等)\n",
    "            channelId=channel_id,  # 要查询的频道ID\n",
    "            maxResults=50,  # 每页最多返回的视频数\n",
    "            pageToken=next_page_token,  # 要获取的下一页数据的令牌\n",
    "            type=\"video\",  # 要查询的资源类型（这里为video，即视频）\n",
    "        )\n",
    "        # 执行查询请求并将结果保存到response变量\n",
    "        response = request.execute()\n",
    "        # 将YouTube API响应中的视频ID提取出来并添加到现有的视频ID列表中\n",
    "        video_ids.extend([item[\"id\"][\"videoId\"] for item in response[\"items\"]])\n",
    "        # 获取YouTube API响应中的下一页令牌（next page token）的值\n",
    "        next_page_token = response.get(\"nextPageToken\")\n",
    "        # 当没有下一页数据时，退出循环\n",
    "        if next_page_token is None:\n",
    "            break\n",
    "    videos = [] # 创建空列表videos用于存储视频详细信息\n",
    "    for video_id in video_ids:  # 遍历之前提取出的视频id列表\n",
    "        request = youtube.videos().list( # 获取特定视频的详细信息 \n",
    "            part=\"snippet,contentDetails,player,statistics,status\", id=video_id)\n",
    "        response = request.execute() # 响应包含请求的视频详细信息\n",
    "        # 通过extend()方法将response中的视频信息添加到videos列表中\n",
    "        videos.extend(response[\"items\"])\n",
    "        # 判断是否还有下一页数据，如果有则更新next_page_token变量，并继续循环获取下一页数据\n",
    "        next_page_token = response.get(\"nextPageToken\")\n",
    "    # 返回所有视频信息的列表videos\n",
    "    return videos"
   ]
  },
  {
   "attachments": {},
   "cell_type": "markdown",
   "metadata": {},
   "source": [
    "要想了解Youtube视频的video属性及其详细信息,可以参考 https://developers.google.com/youtube/v3/docs/videos?hl=zh-cn\n",
    "\n",
    "![](assets/屏幕截图-2023-05-07-004356.png)"
   ]
  },
  {
   "cell_type": "code",
   "execution_count": 16,
   "metadata": {},
   "outputs": [],
   "source": [
    "\"\"\"\n",
    "函数功能:将指定的YouTube视频信息保存到CSV文件\n",
    "传入参数:videos表示要保存的视频信息列表,csv_name表示要保存到的CSV文件名\n",
    "返回值:无\n",
    "\"\"\"\n",
    "def save_to_csv(videos, csv_name):\n",
    "    # 使用Python内置的open()方法打开指定文件\n",
    "    with open(csv_name, mode=\"w\", newline=\"\", encoding=\"utf-8\") as file:\n",
    "        # 创建一个csv.writer对象来写入CSV格式数据\n",
    "        writer = csv.writer(file)\n",
    "        # 使用writerow()方法写入表头行\n",
    "        writer.writerow([\"id\", \"title\", \"publishedAt\", \"duration\", \"definition\", \"caption\", \"licensedContent\",\n",
    "                        \"viewCount\", \"likeCount\", \"commentCount\", \"description\", \"embeddable\", \"player\"])\n",
    "        # 写入每个视频对应的行\n",
    "        for video in videos:\n",
    "            # 视频的详细信息如下\n",
    "            writer.writerow([\n",
    "                video[\"id\"],  # YouTube用于唯一标识视频的ID\n",
    "                video[\"snippet\"][\"title\"],  # 视频标题\n",
    "                video[\"snippet\"][\"publishedAt\"],  # 发布日期和时间\n",
    "                video[\"contentDetails\"][\"duration\"],  # 视频时长\n",
    "                video[\"contentDetails\"][\"definition\"],  # 清晰度\n",
    "                video[\"contentDetails\"][\"caption\"],  # 是否有字幕\n",
    "                video[\"contentDetails\"][\"licensedContent\"],  # 是否受版权保护\n",
    "                video[\"statistics\"].get(\"viewCount\", \"N/A\"),  # 观看次数\n",
    "                video[\"statistics\"].get(\"likeCount\", \"N/A\"),  # 点赞次数\n",
    "                video[\"statistics\"].get(\"commentCount\", \"N/A\"),  # 评论次数\n",
    "                video[\"snippet\"][\"description\"],  # 视频描述\n",
    "                video[\"status\"][\"embeddable\"],  # 视频是否可以嵌入到网页中以播放\n",
    "                video[\"player\"], # 视频的嵌入代码，可将其插入到网页中以播放视频\n",
    "            ])"
   ]
  },
  {
   "attachments": {},
   "cell_type": "markdown",
   "metadata": {},
   "source": [
    "#### 获取YouTube频道ID\n",
    "\n",
    "1. 打开您要爬取的`YouTube`频道页面。\n",
    "\n",
    "![](assets/屏幕截图-2023-05-05-164509.png)\n",
    "\n",
    "2. 使用 `F12` 或鼠标右键“检查(`Inspect Element`)”即可打开浏览器的调试工具\n",
    "\n",
    "![](assets/屏幕截图-2023-05-05-152759.png)\n",
    "\n",
    "3. 找到搜索栏或者使用快捷键`Ctrl+F`,查找\"`/channel/`\"。频道ID是URL中的一串字符，通常以“`/channel/`”开头，例如:\n",
    "\n",
    "   - /channel/UCoC47do520os_4DBMEFGg4A\n",
    "\n",
    "   在这些示例中，频道ID为“`UCoC47do520os_4DBMEFGg4A`”\n",
    "\n",
    "![](assets/屏幕截图-2023-05-05-164639.png)\n",
    "\n",
    "\n",
    "4. 将频道`ID`复制到的`Python`代码中，替换`channel_id`。"
   ]
  },
  {
   "cell_type": "code",
   "execution_count": 17,
   "metadata": {},
   "outputs": [],
   "source": [
    "def run():\n",
    "    # YouTube频道名称\n",
    "    channel_name = \"文昭思緒飛揚 - Wen Zhao Studio\"\n",
    "    # YouTube频道ID\n",
    "    channel_id = \"UCTu_hTaVf3DJMpMIyOAq2Ew\"\n",
    "    # 获取指定YouTube频道的所有视频信息\n",
    "    videos = get_channel_videos(channel_id)\n",
    "    # 将指定的YouTube视频信息保存到csv文件\n",
    "    save_to_csv(videos, channel_name+\".csv\")\n",
    "    # 输出保存文件信息的结果\n",
    "    print(f\"视频信息已保存到 {channel_name}.csv\")"
   ]
  },
  {
   "cell_type": "code",
   "execution_count": 18,
   "metadata": {},
   "outputs": [
    {
     "name": "stdout",
     "output_type": "stream",
     "text": [
      "视频信息已保存到 文昭思緒飛揚 - Wen Zhao Studio.csv\n"
     ]
    }
   ],
   "source": [
    "# 运行程序\n",
    "if __name__ == \"__main__\":\n",
    "    run()"
   ]
  },
  {
   "attachments": {},
   "cell_type": "markdown",
   "metadata": {},
   "source": [
    "#### 解决使用Excel打开csv文件出现乱码的问题\n",
    "\n",
    "1. 创建一个新的Excel文件\n",
    "\n",
    "![](assets/屏幕截图-2023-05-07-002333.png)\n",
    "\n",
    "\n",
    "2. 切换至 “数据” 菜单,选择数据来源为 “自文本” 选择 CSV 文件,选择导出的 CSV 文件\n",
    "\n",
    "![](assets/屏幕截图-2023-05-07-002433.png)\n",
    "\n",
    "\n",
    "3. 出现文本导入向导,文件原始格式选择 “65001：Unicode (UTF-8)” ,分割符选择“逗号”,最后点击加载\n",
    "\n",
    "![](assets/屏幕截图-2023-05-07-002517.png)\n",
    "\n",
    "\n",
    "4. 最后得到正常解码的xlsx文件\n",
    "\n",
    "![](assets/屏幕截图-2023-05-07-002608.png)"
   ]
  }
 ],
 "metadata": {
  "kernelspec": {
   "display_name": "reptile",
   "language": "python",
   "name": "python3"
  },
  "language_info": {
   "codemirror_mode": {
    "name": "ipython",
    "version": 3
   },
   "file_extension": ".py",
   "mimetype": "text/x-python",
   "name": "python",
   "nbconvert_exporter": "python",
   "pygments_lexer": "ipython3",
   "version": "3.8.16"
  },
  "orig_nbformat": 4
 },
 "nbformat": 4,
 "nbformat_minor": 2
}
